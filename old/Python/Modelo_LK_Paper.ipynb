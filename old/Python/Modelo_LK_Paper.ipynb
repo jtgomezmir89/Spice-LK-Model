{
  "cells": [
    {
      "cell_type": "code",
      "execution_count": null,
      "metadata": {
        "id": "dOKfsNaSwyyf"
      },
      "outputs": [
        {
          "ename": "",
          "evalue": "",
          "output_type": "error",
          "traceback": [
            "\u001b[1;31mRunning cells with 'Python 3.12.4' requires the ipykernel package.\n",
            "\u001b[1;31mRun the following command to install 'ipykernel' into the Python environment. \n",
            "\u001b[1;31mCommand: '/opt/homebrew/bin/python3 -m pip install ipykernel -U --user --force-reinstall'"
          ]
        }
      ],
      "source": [
        "from pylab import *\n",
        "from mpl_toolkits.axes_grid1.inset_locator import inset_axes\n",
        "import matplotlib.gridspec as gridspec\n",
        "import numpy as np\n",
        "from sympy import *"
      ]
    },
    {
      "cell_type": "code",
      "execution_count": null,
      "metadata": {
        "colab": {
          "background_save": true,
          "base_uri": "https://localhost:8080/"
        },
        "id": "wtoWejImyw0B",
        "outputId": "d7276a79-8b3b-4179-9b23-62c113ca7789"
      },
      "outputs": [
        {
          "name": "stdout",
          "output_type": "stream",
          "text": [
            "k:  2.598076211353316\n",
            "tau:  2.0\n"
          ]
        },
        {
          "name": "stderr",
          "output_type": "stream",
          "text": [
            "<ipython-input-15-dbda2ca3b62a>:29: RuntimeWarning: divide by zero encountered in arctanh\n",
            "  arctanh_Qn = np.arctanh(Qn)  # Calculate once and reuse\n",
            "<ipython-input-15-dbda2ca3b62a>:30: RuntimeWarning: invalid value encountered in multiply\n",
            "  dQn_dt = ((1 - Qn**2) / tau) * (Vn - 3 * k * arctanh_Qn + 4 * k * Qn)\n"
          ]
        }
      ],
      "source": [
        "import numpy as np\n",
        "from scipy.integrate import solve_ivp\n",
        "import matplotlib.pyplot as plt\n",
        "\n",
        "# Define parameters\n",
        "rho = 10\n",
        "Vc = 0.5\n",
        "Qo = 0.1\n",
        "Co = Qo/Vc\n",
        "tau = rho*Co\n",
        "k = 3*np.sqrt(3)/2\n",
        "\n",
        "print(\"k: \", k)\n",
        "print(\"tau: \", tau)\n",
        "\n",
        "def differential_equation(t, Qn, Vn):\n",
        "    dQn_dt = (Vn + k * Qn - k * Qn**3)/tau\n",
        "    return dQn_dt\n",
        "\n",
        "def differential_equation_II(t, Qn, Vn):\n",
        "    dQn_dt = (Vn + k * Qn - k * Qn**3)/(tau + tau*Qn**2)\n",
        "    return dQn_dt\n",
        "\n",
        "def differential_equation_III(t, Qn, Vn):\n",
        "    dQn_dt = (Vn + k*(Qn - Qn**3 - (3/5)*Qn**5 - (3/7)*Qn**7))/(tau*(1 + Qn**2 + Qn**4 + Qn**6))\n",
        "    return dQn_dt\n",
        "\n",
        "def differential_equation_IV(t, Qn, Vn):\n",
        "    arctanh_Qn = np.arctanh(Qn)  # Calculate once and reuse\n",
        "    dQn_dt = ((1 - Qn**2) / tau) * (Vn - 3 * k * arctanh_Qn + 4 * k * Qn)\n",
        "    return dQn_dt\n",
        "\n",
        "\n",
        "\n",
        "\n",
        "# Define the range of Vfe values from -1 to 1 and back to -1\n",
        "Vfe_up = np.linspace(-2, 2, 5000)\n",
        "Vfe_down = np.linspace(2, -2, 5000)\n",
        "Vfe_values = np.concatenate((Vfe_up, Vfe_down))\n",
        "Vn_values = Vfe_values\n",
        "\n",
        "\n",
        "Qn_final_values = []\n",
        "Qn_final_values_II = []\n",
        "Qn_final_values_III = []\n",
        "Qn_final_values_IV = []\n",
        "\n",
        "t_span = (0, 3)\n",
        "Qn_initial = [-1.0]\n",
        "\n",
        "\n",
        "# Solve the differential equation for each value of Vfe\n",
        "for Vn in Vn_values:\n",
        "    #solution = solve_ivp(differential_equation, t_span, Qn_initial, args=(Vn,), t_eval=[t_span[1]])\n",
        "    #Qn_final_values.append(solution.y[0][-1])\n",
        "    #Qn_initial = [solution.y[0][-1]]\n",
        "\n",
        "    #solution_II = solve_ivp(differential_equation_II, t_span, Qn_initial, args=(Vn,), t_eval=[t_span[1]])\n",
        "    #Qn_final_values_II.append(solution_II.y[0][-1])\n",
        "    #Qn_initial_II = [solution_II.y[0][-1]]\n",
        "\n",
        "    #solution_III = solve_ivp(differential_equation_III, t_span, Qn_initial, args=(Vn,), t_eval=[t_span[1]])\n",
        "    #Qn_final_values_III.append(solution_III.y[0][-1])\n",
        "    #Qn_initial_III = [solution_III.y[0][-1]]\n",
        "\n",
        "    solution_IV = solve_ivp(differential_equation_IV, t_span, Qn_initial, args=(Vn,), t_eval=[t_span[1]])\n",
        "    Qn_final_values_IV.append(solution_IV.y[0][-1])\n",
        "    Qn_initial_IV = [solution_IV.y[0][-1]]\n",
        "\n",
        "\n",
        "plt.figure(figsize=(8, 6))  # Increase figure size\n",
        "\n",
        "plt.axvline(x=1, color='k', linestyle=':', linewidth=1)\n",
        "plt.axvline(x=-1, color='k', linestyle=':', linewidth=1)\n",
        "plt.axhline(y=1, color='k', linestyle=':', linewidth=1)\n",
        "plt.axhline(y=-1, color='k', linestyle=':', linewidth=1)\n",
        "\n",
        "\n",
        "#plt.plot(Vfe_values, Qn_final_values, label=r'$Eq.6$', color='cyan', linewidth=6)\n",
        "#plt.plot(Vfe_values, Qn_final_values_II, label=r'$Eq.7$', color='coral', linestyle='-', linewidth=3)\n",
        "#plt.plot(Vfe_values, Qn_final_values_III, label=r'$Eq.8$', color='springgreen', linestyle='--', linewidth=2.5)\n",
        "plt.plot(Vfe_values, Qn_final_values_IV, label=r'$Eq.9$', color='k', linestyle='--', linewidth=1.5)\n",
        "\n",
        "plt.xlabel('$V_N$', fontsize=20)\n",
        "plt.ylabel('$Q_N$', fontsize=20)\n",
        "\n",
        "plt.xticks(fontsize=18)\n",
        "plt.yticks(fontsize=18)\n",
        "plt.minorticks_on()\n",
        "plt.tick_params(axis='both', which='major', labelsize=14, width=2, length=7)\n",
        "plt.tick_params(axis='both', which='minor', labelsize=12, width=1, length=4)\n",
        "\n",
        "plt.legend(fontsize=14, loc='upper left')\n",
        "\n",
        "plt.show()"
      ]
    }
  ],
  "metadata": {
    "colab": {
      "provenance": []
    },
    "kernelspec": {
      "display_name": "Python 3",
      "name": "python3"
    },
    "language_info": {
      "name": "python",
      "version": "3.12.4"
    }
  },
  "nbformat": 4,
  "nbformat_minor": 0
}
